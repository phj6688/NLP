{
 "cells": [
  {
   "cell_type": "markdown",
   "id": "01616607",
   "metadata": {},
   "source": [
    "# Datacleaning and metadata generation\n",
    "\n",
    "This notebook contains a script to clean and process our simple language dataset, in order to\n",
    "do some minor analysis and gather some metadata."
   ]
  },
  {
   "cell_type": "code",
   "execution_count": 1,
   "id": "074c12a3",
   "metadata": {},
   "outputs": [],
   "source": [
    "import pandas as pd\n",
    "import spacy\n",
    "from collections import Counter"
   ]
  },
  {
   "cell_type": "markdown",
   "id": "59f82830",
   "metadata": {},
   "source": [
    "## Cleaning\n",
    "Our csv files contains many categories we will not use, and splits the article into headline, short-text and body.\n",
    "We will create a file that outputs the labeled data with the entire article in one piece.\n",
    "\n",
    "We set the file we want to work with here, along with a couple of output parameters."
   ]
  },
  {
   "cell_type": "code",
   "execution_count": 2,
   "id": "54748941",
   "metadata": {},
   "outputs": [
    {
     "data": {
      "text/html": [
       "<div>\n",
       "<style scoped>\n",
       "    .dataframe tbody tr th:only-of-type {\n",
       "        vertical-align: middle;\n",
       "    }\n",
       "\n",
       "    .dataframe tbody tr th {\n",
       "        vertical-align: top;\n",
       "    }\n",
       "\n",
       "    .dataframe thead th {\n",
       "        text-align: right;\n",
       "    }\n",
       "</style>\n",
       "<table border=\"1\" class=\"dataframe\">\n",
       "  <thead>\n",
       "    <tr style=\"text-align: right;\">\n",
       "      <th></th>\n",
       "      <th>Line_ID</th>\n",
       "      <th>day</th>\n",
       "      <th>month</th>\n",
       "      <th>year</th>\n",
       "      <th>category</th>\n",
       "      <th>article</th>\n",
       "      <th>kurz_text</th>\n",
       "      <th>haupt_text</th>\n",
       "      <th>audio_link</th>\n",
       "    </tr>\n",
       "  </thead>\n",
       "  <tbody>\n",
       "    <tr>\n",
       "      <th>0</th>\n",
       "      <td>0</td>\n",
       "      <td>14</td>\n",
       "      <td>Mai</td>\n",
       "      <td>2021</td>\n",
       "      <td>Kultur</td>\n",
       "      <td>\\nFernseh-Preise \\n</td>\n",
       "      <td>Die Grimme-Preise sind die wichtigsten Fernseh...</td>\n",
       "      <td>\\nDie Moderatorin Caren Miosga wird besonders ...</td>\n",
       "      <td>['https://ondemand-mp3.dradio.de/file/dradio/2...</td>\n",
       "    </tr>\n",
       "    <tr>\n",
       "      <th>1</th>\n",
       "      <td>1</td>\n",
       "      <td>14</td>\n",
       "      <td>Mai</td>\n",
       "      <td>2021</td>\n",
       "      <td>Kultur</td>\n",
       "      <td>\\nFilm-Festival in Berlin\\n</td>\n",
       "      <td>Jedes Jahr gibt es in Berlin ein großes Festiv...</td>\n",
       "      <td>\\nDie Chefin von der Berlinale heißt Mariette ...</td>\n",
       "      <td>['https://ondemand-mp3.dradio.de/file/dradio/2...</td>\n",
       "    </tr>\n",
       "    <tr>\n",
       "      <th>2</th>\n",
       "      <td>2</td>\n",
       "      <td>14</td>\n",
       "      <td>Mai</td>\n",
       "      <td>2021</td>\n",
       "      <td>Kultur</td>\n",
       "      <td>\\nPreise für Schulen\\n</td>\n",
       "      <td>7 Schulen in Deutschland haben einen Preis bek...</td>\n",
       "      <td>\\nDer Bundes-Präsident heißt Frank-Walter Stei...</td>\n",
       "      <td>['https://ondemand-mp3.dradio.de/file/dradio/2...</td>\n",
       "    </tr>\n",
       "    <tr>\n",
       "      <th>3</th>\n",
       "      <td>3</td>\n",
       "      <td>7</td>\n",
       "      <td>Mai</td>\n",
       "      <td>2021</td>\n",
       "      <td>Kultur</td>\n",
       "      <td>\\nParty in Liverpool\\n</td>\n",
       "      <td>In der Stadt Liverpool in dem Land England hat...</td>\n",
       "      <td>\\nDie Menschen durften zusammen ohne Maske und...</td>\n",
       "      <td>['https://ondemand-mp3.dradio.de/file/dradio/2...</td>\n",
       "    </tr>\n",
       "    <tr>\n",
       "      <th>4</th>\n",
       "      <td>4</td>\n",
       "      <td>7</td>\n",
       "      <td>Mai</td>\n",
       "      <td>2021</td>\n",
       "      <td>Kultur</td>\n",
       "      <td>\\nDeutschland gibt Kunst zurück\\n</td>\n",
       "      <td>Das afrikanische Land Nigeria fordert seit lan...</td>\n",
       "      <td>\\nBei den Kunst-Werken handelt es sich um Meta...</td>\n",
       "      <td>['https://ondemand-mp3.dradio.de/file/dradio/2...</td>\n",
       "    </tr>\n",
       "    <tr>\n",
       "      <th>...</th>\n",
       "      <td>...</td>\n",
       "      <td>...</td>\n",
       "      <td>...</td>\n",
       "      <td>...</td>\n",
       "      <td>...</td>\n",
       "      <td>...</td>\n",
       "      <td>...</td>\n",
       "      <td>...</td>\n",
       "      <td>...</td>\n",
       "    </tr>\n",
       "    <tr>\n",
       "      <th>5819</th>\n",
       "      <td>5819</td>\n",
       "      <td>16</td>\n",
       "      <td>Februar</td>\n",
       "      <td>2013</td>\n",
       "      <td>Nachrichten</td>\n",
       "      <td>\\nNeue Bildungs-Ministerin\\n</td>\n",
       "      <td>Johanna Wanka ist neue Ministerin für Bildung ...</td>\n",
       "      <td>\\nDie CDU-Politikerin Johanna Wanka ist die ne...</td>\n",
       "      <td>NaN</td>\n",
       "    </tr>\n",
       "    <tr>\n",
       "      <th>5820</th>\n",
       "      <td>5820</td>\n",
       "      <td>16</td>\n",
       "      <td>Februar</td>\n",
       "      <td>2013</td>\n",
       "      <td>Nachrichten</td>\n",
       "      <td>\\nHomo-Ehe in Frankreich\\n</td>\n",
       "      <td>In Frankreich können schwule und lesbische Paa...</td>\n",
       "      <td>\\n\\n\\nIn Frankreich sollen gleich-geschlechtli...</td>\n",
       "      <td>NaN</td>\n",
       "    </tr>\n",
       "    <tr>\n",
       "      <th>5821</th>\n",
       "      <td>5821</td>\n",
       "      <td>16</td>\n",
       "      <td>Februar</td>\n",
       "      <td>2013</td>\n",
       "      <td>Nachrichten</td>\n",
       "      <td>\\nNord-Korea testet Atom-Bombe \\n</td>\n",
       "      <td>Nord-Korea hat eine Atom-Bombe getestet. Fast ...</td>\n",
       "      <td>\\nDie Regierung von Nord-Korea hat zum dritten...</td>\n",
       "      <td>NaN</td>\n",
       "    </tr>\n",
       "    <tr>\n",
       "      <th>5822</th>\n",
       "      <td>5822</td>\n",
       "      <td>16</td>\n",
       "      <td>Februar</td>\n",
       "      <td>2013</td>\n",
       "      <td>Nachrichten</td>\n",
       "      <td>\\nObama hält wichtige Rede\\n</td>\n",
       "      <td>Der Präsident der USA, Barack Obama, hat eine ...</td>\n",
       "      <td>\\nIn seiner Rede sagte Obama, dass in den USA ...</td>\n",
       "      <td>NaN</td>\n",
       "    </tr>\n",
       "    <tr>\n",
       "      <th>5823</th>\n",
       "      <td>5823</td>\n",
       "      <td>9</td>\n",
       "      <td>Februar</td>\n",
       "      <td>2013</td>\n",
       "      <td>Nachrichten</td>\n",
       "      <td>\\nBildungs-Ministerin tritt zurück\\n</td>\n",
       "      <td>Die Ministerin Annette Schavan ist zurückgetre...</td>\n",
       "      <td>\\nDie Uni Düsseldorf hat die Doktor-Arbeit von...</td>\n",
       "      <td>NaN</td>\n",
       "    </tr>\n",
       "  </tbody>\n",
       "</table>\n",
       "<p>5824 rows × 9 columns</p>\n",
       "</div>"
      ],
      "text/plain": [
       "      Line_ID  day    month  year     category  \\\n",
       "0           0   14      Mai  2021       Kultur   \n",
       "1           1   14      Mai  2021       Kultur   \n",
       "2           2   14      Mai  2021       Kultur   \n",
       "3           3    7      Mai  2021       Kultur   \n",
       "4           4    7      Mai  2021       Kultur   \n",
       "...       ...  ...      ...   ...          ...   \n",
       "5819     5819   16  Februar  2013  Nachrichten   \n",
       "5820     5820   16  Februar  2013  Nachrichten   \n",
       "5821     5821   16  Februar  2013  Nachrichten   \n",
       "5822     5822   16  Februar  2013  Nachrichten   \n",
       "5823     5823    9  Februar  2013  Nachrichten   \n",
       "\n",
       "                                   article  \\\n",
       "0                      \\nFernseh-Preise \\n   \n",
       "1              \\nFilm-Festival in Berlin\\n   \n",
       "2                   \\nPreise für Schulen\\n   \n",
       "3                   \\nParty in Liverpool\\n   \n",
       "4        \\nDeutschland gibt Kunst zurück\\n   \n",
       "...                                    ...   \n",
       "5819          \\nNeue Bildungs-Ministerin\\n   \n",
       "5820            \\nHomo-Ehe in Frankreich\\n   \n",
       "5821     \\nNord-Korea testet Atom-Bombe \\n   \n",
       "5822          \\nObama hält wichtige Rede\\n   \n",
       "5823  \\nBildungs-Ministerin tritt zurück\\n   \n",
       "\n",
       "                                              kurz_text  \\\n",
       "0     Die Grimme-Preise sind die wichtigsten Fernseh...   \n",
       "1     Jedes Jahr gibt es in Berlin ein großes Festiv...   \n",
       "2     7 Schulen in Deutschland haben einen Preis bek...   \n",
       "3     In der Stadt Liverpool in dem Land England hat...   \n",
       "4     Das afrikanische Land Nigeria fordert seit lan...   \n",
       "...                                                 ...   \n",
       "5819  Johanna Wanka ist neue Ministerin für Bildung ...   \n",
       "5820  In Frankreich können schwule und lesbische Paa...   \n",
       "5821  Nord-Korea hat eine Atom-Bombe getestet. Fast ...   \n",
       "5822  Der Präsident der USA, Barack Obama, hat eine ...   \n",
       "5823  Die Ministerin Annette Schavan ist zurückgetre...   \n",
       "\n",
       "                                             haupt_text  \\\n",
       "0     \\nDie Moderatorin Caren Miosga wird besonders ...   \n",
       "1     \\nDie Chefin von der Berlinale heißt Mariette ...   \n",
       "2     \\nDer Bundes-Präsident heißt Frank-Walter Stei...   \n",
       "3     \\nDie Menschen durften zusammen ohne Maske und...   \n",
       "4     \\nBei den Kunst-Werken handelt es sich um Meta...   \n",
       "...                                                 ...   \n",
       "5819  \\nDie CDU-Politikerin Johanna Wanka ist die ne...   \n",
       "5820  \\n\\n\\nIn Frankreich sollen gleich-geschlechtli...   \n",
       "5821  \\nDie Regierung von Nord-Korea hat zum dritten...   \n",
       "5822  \\nIn seiner Rede sagte Obama, dass in den USA ...   \n",
       "5823  \\nDie Uni Düsseldorf hat die Doktor-Arbeit von...   \n",
       "\n",
       "                                             audio_link  \n",
       "0     ['https://ondemand-mp3.dradio.de/file/dradio/2...  \n",
       "1     ['https://ondemand-mp3.dradio.de/file/dradio/2...  \n",
       "2     ['https://ondemand-mp3.dradio.de/file/dradio/2...  \n",
       "3     ['https://ondemand-mp3.dradio.de/file/dradio/2...  \n",
       "4     ['https://ondemand-mp3.dradio.de/file/dradio/2...  \n",
       "...                                                 ...  \n",
       "5819                                                NaN  \n",
       "5820                                                NaN  \n",
       "5821                                                NaN  \n",
       "5822                                                NaN  \n",
       "5823                                                NaN  \n",
       "\n",
       "[5824 rows x 9 columns]"
      ]
     },
     "metadata": {},
     "output_type": "display_data"
    }
   ],
   "source": [
    "csv_ext = \".csv\"\n",
    "txt_ext = \".txt\"\n",
    "in_directory = \"raw_data/\"\n",
    "out_directory = \"clean_data/\"\n",
    "meta_directory = \"metadata/\"\n",
    "\n",
    "simple_in = \"leicht_nachricht\"\n",
    "simple_out = \"leichte_sprache\"\n",
    "norm_cult_in = \"Kultur_normal\"\n",
    "norm_cult_out = \"kultur_normal\"\n",
    "norm_sport_in = \"Sport_normal\"\n",
    "norm_sport_out = \"sport_normal\"\n",
    "norm_poli_in = \"Politik_normal\"\n",
    "norm_poli_out = \"politik_normal\"\n",
    "\n",
    "input_filename = in_directory + simple_in + csv_ext\n",
    "output_filename_csv = out_directory + \"clean_\" + norm_poli_out + csv_ext\n",
    "metadata_output_filename = meta_directory + norm_poli_out + \"_meta\" + txt_ext\n",
    "metadata_string = \"\"\n",
    "\n",
    "df = pd.read_csv(input_filename)\n",
    "display(df)"
   ]
  },
  {
   "cell_type": "code",
   "execution_count": 3,
   "id": "5593760c",
   "metadata": {},
   "outputs": [
    {
     "name": "stdout",
     "output_type": "stream",
     "text": [
      "0       True\n",
      "1       True\n",
      "2       True\n",
      "3       True\n",
      "4       True\n",
      "        ... \n",
      "5819    True\n",
      "5820    True\n",
      "5821    True\n",
      "5822    True\n",
      "5823    True\n",
      "Name: label, Length: 5824, dtype: bool\n"
     ]
    }
   ],
   "source": [
    "cleanArray = []\n",
    "for index in df.loc[:,\"Line_ID\"]:\n",
    "    if index in [1285, 3781, 5648, 5663]:\n",
    "        #there are four articles without a body. We simply exclude those from our data for simplicity\n",
    "        pass\n",
    "    else:\n",
    "        #first we extract the article\n",
    "        article = df.loc[index,\"article\"]\n",
    "    \n",
    "        #next up the short text\n",
    "        short_text = df.loc[index,\"kurz_text\"]\n",
    "    \n",
    "        #and finally the main body of the article\n",
    "    \n",
    "        body = df.loc[index,\"haupt_text\"]\n",
    "        if type(body) is float:\n",
    "            print(index)\n",
    "            break\n",
    "    \n",
    "        #our resulting text contains some unicode symbols, namely \\xa0, that we dont want, so we replace it with\n",
    "        #a space. We also remove line breaks\n",
    "        \n",
    "        text = article + \" \" + short_text + body\n",
    "        text = text.replace(u'\\xa0', u' ')\n",
    "        text = text.replace(\"\\n\", \"\")\n",
    "        text = text.replace(\"\\r\", \"\")\n",
    "    \n",
    "    \n",
    "        newEntry = [text, df.loc[index, \"category\"]]\n",
    "    \n",
    "    \n",
    "    cleanArray.append(newEntry)\n",
    "    \n",
    "    \n",
    "cleanDf_with_misc = pd.DataFrame(cleanArray, columns=[\"text\", \"label\"])\n",
    "#Our data contained articles with the category \"miscellaneous\", which we dont intend to use\n",
    "#We therefore exclude it from this file\n",
    "is_not_misc = cleanDf_with_misc[\"label\"]!=\"Vermischtes\"\n",
    "print(is_not_misc)\n",
    "cleanDf = cleanDf_with_misc[is_not_misc]"
   ]
  },
  {
   "cell_type": "code",
   "execution_count": 4,
   "id": "08c41041",
   "metadata": {},
   "outputs": [
    {
     "data": {
      "text/html": [
       "<div>\n",
       "<style scoped>\n",
       "    .dataframe tbody tr th:only-of-type {\n",
       "        vertical-align: middle;\n",
       "    }\n",
       "\n",
       "    .dataframe tbody tr th {\n",
       "        vertical-align: top;\n",
       "    }\n",
       "\n",
       "    .dataframe thead th {\n",
       "        text-align: right;\n",
       "    }\n",
       "</style>\n",
       "<table border=\"1\" class=\"dataframe\">\n",
       "  <thead>\n",
       "    <tr style=\"text-align: right;\">\n",
       "      <th></th>\n",
       "      <th>text</th>\n",
       "      <th>label</th>\n",
       "    </tr>\n",
       "  </thead>\n",
       "  <tbody>\n",
       "    <tr>\n",
       "      <th>0</th>\n",
       "      <td>Fernseh-Preise  Die Grimme-Preise sind die wic...</td>\n",
       "      <td>Kultur</td>\n",
       "    </tr>\n",
       "    <tr>\n",
       "      <th>1</th>\n",
       "      <td>Film-Festival in Berlin Jedes Jahr gibt es in ...</td>\n",
       "      <td>Kultur</td>\n",
       "    </tr>\n",
       "    <tr>\n",
       "      <th>2</th>\n",
       "      <td>Preise für Schulen 7 Schulen in Deutschland ha...</td>\n",
       "      <td>Kultur</td>\n",
       "    </tr>\n",
       "    <tr>\n",
       "      <th>3</th>\n",
       "      <td>Party in Liverpool In der Stadt Liverpool in d...</td>\n",
       "      <td>Kultur</td>\n",
       "    </tr>\n",
       "    <tr>\n",
       "      <th>4</th>\n",
       "      <td>Deutschland gibt Kunst zurück Das afrikanische...</td>\n",
       "      <td>Kultur</td>\n",
       "    </tr>\n",
       "    <tr>\n",
       "      <th>...</th>\n",
       "      <td>...</td>\n",
       "      <td>...</td>\n",
       "    </tr>\n",
       "    <tr>\n",
       "      <th>5819</th>\n",
       "      <td>Neue Bildungs-Ministerin Johanna Wanka ist neu...</td>\n",
       "      <td>Nachrichten</td>\n",
       "    </tr>\n",
       "    <tr>\n",
       "      <th>5820</th>\n",
       "      <td>Homo-Ehe in Frankreich In Frankreich können sc...</td>\n",
       "      <td>Nachrichten</td>\n",
       "    </tr>\n",
       "    <tr>\n",
       "      <th>5821</th>\n",
       "      <td>Nord-Korea testet Atom-Bombe  Nord-Korea hat e...</td>\n",
       "      <td>Nachrichten</td>\n",
       "    </tr>\n",
       "    <tr>\n",
       "      <th>5822</th>\n",
       "      <td>Obama hält wichtige Rede Der Präsident der USA...</td>\n",
       "      <td>Nachrichten</td>\n",
       "    </tr>\n",
       "    <tr>\n",
       "      <th>5823</th>\n",
       "      <td>Bildungs-Ministerin tritt zurück Die Ministeri...</td>\n",
       "      <td>Nachrichten</td>\n",
       "    </tr>\n",
       "  </tbody>\n",
       "</table>\n",
       "<p>4554 rows × 2 columns</p>\n",
       "</div>"
      ],
      "text/plain": [
       "                                                   text        label\n",
       "0     Fernseh-Preise  Die Grimme-Preise sind die wic...       Kultur\n",
       "1     Film-Festival in Berlin Jedes Jahr gibt es in ...       Kultur\n",
       "2     Preise für Schulen 7 Schulen in Deutschland ha...       Kultur\n",
       "3     Party in Liverpool In der Stadt Liverpool in d...       Kultur\n",
       "4     Deutschland gibt Kunst zurück Das afrikanische...       Kultur\n",
       "...                                                 ...          ...\n",
       "5819  Neue Bildungs-Ministerin Johanna Wanka ist neu...  Nachrichten\n",
       "5820  Homo-Ehe in Frankreich In Frankreich können sc...  Nachrichten\n",
       "5821  Nord-Korea testet Atom-Bombe  Nord-Korea hat e...  Nachrichten\n",
       "5822  Obama hält wichtige Rede Der Präsident der USA...  Nachrichten\n",
       "5823  Bildungs-Ministerin tritt zurück Die Ministeri...  Nachrichten\n",
       "\n",
       "[4554 rows x 2 columns]"
      ]
     },
     "metadata": {},
     "output_type": "display_data"
    }
   ],
   "source": [
    "display(cleanDf)"
   ]
  },
  {
   "cell_type": "code",
   "execution_count": 5,
   "id": "aaa14412",
   "metadata": {},
   "outputs": [],
   "source": [
    "cleanDf.to_csv(output_filename_csv)"
   ]
  },
  {
   "cell_type": "markdown",
   "id": "fc9aa854",
   "metadata": {},
   "source": [
    "### Now we have cleaned data, and we can do a little analysis for gathering metadata.\n",
    "We begin by counting how many articles we have total, and split by label"
   ]
  },
  {
   "cell_type": "code",
   "execution_count": 6,
   "id": "971ebd29",
   "metadata": {},
   "outputs": [],
   "source": [
    "is_kultur = cleanDf[\"label\"] == \"Kultur\"\n",
    "kultur = cleanDf[is_kultur]\n",
    "is_nachrichten = cleanDf[\"label\"] == \"Nachrichten\"\n",
    "nachrichten = cleanDf[is_nachrichten]\n",
    "is_sport = cleanDf[\"label\"] == \"Sport\"\n",
    "sport = cleanDf[is_sport]"
   ]
  },
  {
   "cell_type": "code",
   "execution_count": 7,
   "id": "516c836e",
   "metadata": {},
   "outputs": [
    {
     "name": "stdout",
     "output_type": "stream",
     "text": [
      "Number of articles labelled \"culture\": 1304\n",
      "Number of articles labelled \"news\": 2020\n",
      "Number of articles labelled \"sport\": 1230\n",
      "Total number of articles: 4554\n"
     ]
    }
   ],
   "source": [
    "print(\"Number of articles labelled \\\"culture\\\": \" + str(len(kultur)))\n",
    "print(\"Number of articles labelled \\\"news\\\": \" + str(len(nachrichten)))\n",
    "print(\"Number of articles labelled \\\"sport\\\": \" + str(len(sport)))\n",
    "print(\"Total number of articles: \" + str(len(kultur) + len(nachrichten) + len(sport)))\n",
    "metadata_string += \"Number of articles labelled \\\"culture\\\": \" + str(len(kultur)) + \"\\n\"\n",
    "metadata_string += \"Number of articles labelled \\\"news\\\": \" + str(len(nachrichten)) + \"\\n\"\n",
    "metadata_string += \"Number of articles labelled \\\"sport\\\": \" + str(len(sport)) + \"\\n\"\n",
    "metadata_string += \"Total number of articles: \" + str(len(kultur) + len(nachrichten) + len(sport)) + \"\\n\""
   ]
  },
  {
   "cell_type": "markdown",
   "id": "19b6fe4d",
   "metadata": {},
   "source": [
    "Now we get a little more detailed. We determine the number of words and types in our entire collection, the average length of an article, and we compute the average flesch reading ease of our texts, using the textstat package"
   ]
  },
  {
   "cell_type": "code",
   "execution_count": 8,
   "id": "9c986dd6",
   "metadata": {},
   "outputs": [],
   "source": [
    "import textstat"
   ]
  },
  {
   "cell_type": "code",
   "execution_count": 9,
   "id": "1cbb965b",
   "metadata": {},
   "outputs": [
    {
     "name": "stdout",
     "output_type": "stream",
     "text": [
      "Number of unique words: 716642\n",
      "average flesch reading ease of our articles: 62.76925779534482\n",
      "average length of an article (words): 157.36539306104524\n"
     ]
    }
   ],
   "source": [
    "textstat.set_lang(\"de\") #we're dealing with german text\n",
    "\n",
    "\n",
    "input_string = \"\"\n",
    "aggregate_reading_ease = 0\n",
    "aggregate_article_length = 0\n",
    "for text in cleanDf[\"text\"] :\n",
    "    input_string += text + \" \"\n",
    "    aggregate_reading_ease += textstat.flesch_reading_ease(text)\n",
    "    aggregate_article_length += textstat.lexicon_count(text)\n",
    "    \n",
    "#for some things, we want all the articles together, for some global metrics\n",
    "\n",
    "lexicon = textstat.lexicon_count(input_string, removepunct=True)\n",
    "print(\"Number of unique words:\", lexicon)\n",
    "metadata_string += \"Number of unique words:\" + str(lexicon) + \"\\n\"\n",
    "    \n",
    "average_reading_ease = aggregate_reading_ease / len(cleanDf[\"text\"])\n",
    "print(\"average flesch reading ease of our articles:\", average_reading_ease)\n",
    "metadata_string += \"average flesch reading ease of our articles:\" + str(average_reading_ease) + \"\\n\"\n",
    "\n",
    "average_article_length = aggregate_article_length / len(cleanDf[\"text\"])\n",
    "print(\"average length of an article (words):\", average_article_length)\n",
    "metadata_string += \"average length of an article (words):\" + str(average_article_length) + \"\\n\""
   ]
  },
  {
   "cell_type": "code",
   "execution_count": 10,
   "id": "ccbc7785",
   "metadata": {},
   "outputs": [],
   "source": [
    "input_string = input_string.lower()\n",
    "\n",
    "#rewrite input to all lower case, to avoid counting the same type twice due to capitalization\n",
    "input_words = input_string.split(\" \")"
   ]
  },
  {
   "cell_type": "code",
   "execution_count": 11,
   "id": "1b0dee78",
   "metadata": {},
   "outputs": [],
   "source": [
    "testcounter = Counter(input_words)\n",
    "\n",
    "types = len(testcounter.keys())\n",
    "# we use the counter class to obtain unique words"
   ]
  },
  {
   "cell_type": "code",
   "execution_count": 12,
   "id": "009f127f",
   "metadata": {},
   "outputs": [
    {
     "name": "stdout",
     "output_type": "stream",
     "text": [
      "Number of types in the collection: 47602\n"
     ]
    }
   ],
   "source": [
    "print(\"Number of types in the collection:\", types)\n",
    "metadata_string += \"Number of types in the collection:\" + str(types) + \"\\n\""
   ]
  },
  {
   "cell_type": "code",
   "execution_count": 13,
   "id": "014c9926",
   "metadata": {},
   "outputs": [
    {
     "name": "stdout",
     "output_type": "stream",
     "text": [
      "culture: average length of an article (words): 150.82898773006136\n"
     ]
    }
   ],
   "source": [
    "aggregate_article_length = 0\n",
    "for text in kultur[\"text\"] :\n",
    "    aggregate_article_length += textstat.lexicon_count(text)\n",
    "    \n",
    "if len(kultur[\"text\"]) > 0:\n",
    "    average_article_length = aggregate_article_length / len(kultur[\"text\"])\n",
    "    print(\"culture: average length of an article (words):\", average_article_length)\n",
    "    metadata_string += \"culture: average length of an article (words):\" + str(average_article_length) + \"\\n\""
   ]
  },
  {
   "cell_type": "code",
   "execution_count": 14,
   "id": "f1e2bb73",
   "metadata": {},
   "outputs": [
    {
     "name": "stdout",
     "output_type": "stream",
     "text": [
      "sport: average length of an article (words): 137.24471544715448\n"
     ]
    }
   ],
   "source": [
    "aggregate_article_length = 0\n",
    "for text in sport[\"text\"] :\n",
    "    aggregate_article_length += textstat.lexicon_count(text)\n",
    "    \n",
    "if len(sport[\"text\"]) > 0 :\n",
    "    average_article_length = aggregate_article_length / len(sport[\"text\"])\n",
    "    print(\"sport: average length of an article (words):\", average_article_length)\n",
    "    metadata_string += \"sport: average length of an article (words):\" + str(average_article_length) + \"\\n\""
   ]
  },
  {
   "cell_type": "code",
   "execution_count": 15,
   "id": "a83c623f",
   "metadata": {},
   "outputs": [
    {
     "name": "stdout",
     "output_type": "stream",
     "text": [
      "politics: average length of an article (words): 173.83663366336634\n"
     ]
    }
   ],
   "source": [
    "aggregate_article_length = 0\n",
    "for text in nachrichten[\"text\"] :\n",
    "    aggregate_article_length += textstat.lexicon_count(text)\n",
    "    \n",
    "if len(nachrichten[\"text\"]) > 0:   \n",
    "    average_article_length = aggregate_article_length / len(nachrichten[\"text\"])\n",
    "    print(\"politics: average length of an article (words):\", average_article_length)\n",
    "    metadata_string += \"politics: average length of an article (words):\" + str(average_article_length) + \"\\n\""
   ]
  },
  {
   "cell_type": "markdown",
   "id": "19cb6c04",
   "metadata": {},
   "source": [
    "We gathered metadata about our sets in the metadata_string, which we now want to write to a file for easy access."
   ]
  },
  {
   "cell_type": "code",
   "execution_count": 16,
   "id": "9f01ffb3",
   "metadata": {},
   "outputs": [
    {
     "name": "stdout",
     "output_type": "stream",
     "text": [
      "wrote metadata into a file\n"
     ]
    }
   ],
   "source": [
    "with open(metadata_output_filename, \"a\") as meta_file:\n",
    "    meta_file.write(metadata_string)\n",
    "    print(\"wrote metadata into a file\")"
   ]
  },
  {
   "cell_type": "markdown",
   "id": "7fb408fd",
   "metadata": {},
   "source": [
    "Author: Henri Thölke"
   ]
  },
  {
   "cell_type": "code",
   "execution_count": null,
   "id": "c114afe9",
   "metadata": {},
   "outputs": [],
   "source": []
  }
 ],
 "metadata": {
  "kernelspec": {
   "display_name": "Python 3",
   "language": "python",
   "name": "python3"
  },
  "language_info": {
   "codemirror_mode": {
    "name": "ipython",
    "version": 3
   },
   "file_extension": ".py",
   "mimetype": "text/x-python",
   "name": "python",
   "nbconvert_exporter": "python",
   "pygments_lexer": "ipython3",
   "version": "3.8.8"
  }
 },
 "nbformat": 4,
 "nbformat_minor": 5
}
