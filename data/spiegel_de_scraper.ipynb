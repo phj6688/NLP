{
 "cells": [
  {
   "cell_type": "code",
   "execution_count": 109,
   "id": "83ab0064",
   "metadata": {},
   "outputs": [],
   "source": [
    "from bs4 import BeautifulSoup as bs\n",
    "import requests\n",
    "import pandas as pd\n",
    "import numpy as np\n",
    "from itertools import zip_longest, chain\n",
    "from time import sleep\n",
    "import snoop"
   ]
  },
  {
   "cell_type": "code",
   "execution_count": 35,
   "id": "8128b49b",
   "metadata": {},
   "outputs": [],
   "source": [
    "# url grabber\n",
    "def url_topic_grabber(url,start,end):\n",
    "    urls = []\n",
    "    for i in range(start,end):\n",
    "        url_ = f'{url}p{i}'\n",
    "        request = requests.get(url_).text\n",
    "        soup = bs(request,'lxml')\n",
    "        href = soup.find_all('a',class_ = 'text-black block')\n",
    "        for i in href:\n",
    "            urls.append(i.get_attribute_list('href'))\n",
    "    urls = set(list(chain.from_iterable(urls)))\n",
    "    return list(urls)"
   ]
  },
  {
   "cell_type": "code",
   "execution_count": 121,
   "id": "bc81f83a",
   "metadata": {},
   "outputs": [],
   "source": [
    "@snoop\n",
    "def grab_details(urls, topic):\n",
    "    day = []\n",
    "    month = []\n",
    "    year = []\n",
    "    category = []\n",
    "    article_ = []\n",
    "    kurz_text = []\n",
    "    haupt_text = []\n",
    "    \n",
    "    count = 0\n",
    "    for url in urls:\n",
    "        try:\n",
    "            request = requests.get(url).text\n",
    "            soup = bs(request, 'lxml')\n",
    "            article_.append(soup.find('span',class_='align-middle').text)\n",
    "            kurz_text.append(soup.find('div',class_=\"RichText RichText--sans leading-loose lg:text-xl md:text-xl sm:text-l lg:mb-32 md:mb-32 sm:mb-24\").text)\n",
    "            haupt_text.append(soup.find('div',class_=\"RichText RichText--iconLinks lg:w-8/12 md:w-10/12 lg:mx-auto md:mx-auto lg:px-24 md:px-24 sm:px-16 break-words word-wrap\").text)\n",
    "            day.append(int(soup.find('time', class_='timeformat').text.split(',')[0].split('.')[0]))\n",
    "            month.append(int(soup.find('time', class_='timeformat').text.split(',')[0].split('.')[1]))\n",
    "            year.append(int(soup.find('time', class_='timeformat').text.split(',')[0].split('.')[2]))\n",
    "            count +=1\n",
    "            if count % 100 == 0:\n",
    "                print(f'{count} pages done!')\n",
    "            category.append(topic)\n",
    "        except:\n",
    "            pass\n",
    "    print(f'last page done! {count}')\n",
    "    \n",
    "    list_of_results = [day, month, year, category, article_, kurz_text, haupt_text]\n",
    "    export_data = zip_longest(*list_of_results, fillvalue = '')\n",
    "    df = pd.DataFrame(export_data,columns=['day', 'month', 'year', 'category', 'article', 'kurz_text', 'haupt_text'])\n",
    "    \n",
    "    \n",
    "    return df"
   ]
  },
  {
   "cell_type": "code",
   "execution_count": null,
   "id": "3efd44e5",
   "metadata": {},
   "outputs": [],
   "source": [
    "# get the urls\n",
    "politik_urls = url_topic_grabber('https://www.spiegel.de/politik/')\n",
    "sport_urls = url_topic_grabber('https://www.spiegel.de/sport/')\n",
    "kultur_urls = url_topic_grabber('https://www.spiegel.de/kultur/')"
   ]
  },
  {
   "cell_type": "code",
   "execution_count": null,
   "id": "703c6afa",
   "metadata": {},
   "outputs": [],
   "source": [
    "# run the function through all three url list\n",
    "\n",
    "politik = grab_details(politic_urls,1,101)\n",
    "sport = grab_details(sport_urls,1,101)\n",
    "kultur = grab_details(kultur_urls,1,101)"
   ]
  },
  {
   "cell_type": "code",
   "execution_count": null,
   "id": "f5d686d2",
   "metadata": {},
   "outputs": [],
   "source": []
  },
  {
   "cell_type": "code",
   "execution_count": null,
   "id": "9a4452d1",
   "metadata": {},
   "outputs": [],
   "source": []
  },
  {
   "cell_type": "code",
   "execution_count": null,
   "id": "b974e4a2",
   "metadata": {},
   "outputs": [],
   "source": []
  },
  {
   "cell_type": "code",
   "execution_count": null,
   "id": "447c09a6",
   "metadata": {},
   "outputs": [],
   "source": []
  },
  {
   "cell_type": "code",
   "execution_count": 10,
   "id": "f3975b67",
   "metadata": {},
   "outputs": [],
   "source": [
    "#list_of_results = [day, month, year, category, article_, kurz_text, haupt_text]\n",
    "#export_data = zip_longest(*list_of_results, fillvalue = '')\n",
    "#\n",
    "#df = pd.DataFrame(export_data,columns=['day', 'month', 'year', 'category', 'article', 'kurz_text', 'haupt_text'])\n",
    "#df.to_csv('normal_nachricht.csv', index = True, index_label='Line_ID', header = True )"
   ]
  }
 ],
 "metadata": {
  "kernelspec": {
   "display_name": "Python 3",
   "language": "python",
   "name": "python3"
  },
  "language_info": {
   "codemirror_mode": {
    "name": "ipython",
    "version": 3
   },
   "file_extension": ".py",
   "mimetype": "text/x-python",
   "name": "python",
   "nbconvert_exporter": "python",
   "pygments_lexer": "ipython3",
   "version": "3.7.10"
  }
 },
 "nbformat": 4,
 "nbformat_minor": 5
}
