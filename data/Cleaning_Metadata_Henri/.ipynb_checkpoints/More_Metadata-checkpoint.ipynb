{
 "cells": [
  {
   "cell_type": "markdown",
   "id": "2f412166",
   "metadata": {},
   "source": [
    "# Rank-frequency analysis\n",
    "We want to take a look at the rank frequency curve of our datasets. We do this to\n",
    "examine the hypothesis, that in simple language, there is less variation in words,\n",
    "since sentences aim to be readable, not stylistically appealing.\n",
    "To test this, we first gather our data, remove some basic punctuation\n",
    "and then plot some curves that indicate the frequency of words."
   ]
  },
  {
   "cell_type": "code",
   "execution_count": 1,
   "id": "99bc6f23",
   "metadata": {},
   "outputs": [],
   "source": [
    "import pandas as pd\n",
    "import numpy as np\n",
    "import matplotlib.pyplot as plt\n",
    "from collections import Counter"
   ]
  },
  {
   "cell_type": "code",
   "execution_count": 2,
   "id": "9db153dd",
   "metadata": {},
   "outputs": [
    {
     "data": {
      "text/html": [
       "<div>\n",
       "<style scoped>\n",
       "    .dataframe tbody tr th:only-of-type {\n",
       "        vertical-align: middle;\n",
       "    }\n",
       "\n",
       "    .dataframe tbody tr th {\n",
       "        vertical-align: top;\n",
       "    }\n",
       "\n",
       "    .dataframe thead th {\n",
       "        text-align: right;\n",
       "    }\n",
       "</style>\n",
       "<table border=\"1\" class=\"dataframe\">\n",
       "  <thead>\n",
       "    <tr style=\"text-align: right;\">\n",
       "      <th></th>\n",
       "      <th>Unnamed: 0</th>\n",
       "      <th>text</th>\n",
       "      <th>label</th>\n",
       "    </tr>\n",
       "  </thead>\n",
       "  <tbody>\n",
       "    <tr>\n",
       "      <th>0</th>\n",
       "      <td>0</td>\n",
       "      <td>Fernseh-Preise  Die Grimme-Preise sind die wic...</td>\n",
       "      <td>Kultur</td>\n",
       "    </tr>\n",
       "    <tr>\n",
       "      <th>1</th>\n",
       "      <td>1</td>\n",
       "      <td>Film-Festival in Berlin Jedes Jahr gibt es in ...</td>\n",
       "      <td>Kultur</td>\n",
       "    </tr>\n",
       "    <tr>\n",
       "      <th>2</th>\n",
       "      <td>2</td>\n",
       "      <td>Preise für Schulen 7 Schulen in Deutschland ha...</td>\n",
       "      <td>Kultur</td>\n",
       "    </tr>\n",
       "    <tr>\n",
       "      <th>3</th>\n",
       "      <td>3</td>\n",
       "      <td>Party in Liverpool In der Stadt Liverpool in d...</td>\n",
       "      <td>Kultur</td>\n",
       "    </tr>\n",
       "    <tr>\n",
       "      <th>4</th>\n",
       "      <td>4</td>\n",
       "      <td>Deutschland gibt Kunst zurück Das afrikanische...</td>\n",
       "      <td>Kultur</td>\n",
       "    </tr>\n",
       "    <tr>\n",
       "      <th>...</th>\n",
       "      <td>...</td>\n",
       "      <td>...</td>\n",
       "      <td>...</td>\n",
       "    </tr>\n",
       "    <tr>\n",
       "      <th>4549</th>\n",
       "      <td>5819</td>\n",
       "      <td>Neue Bildungs-Ministerin Johanna Wanka ist neu...</td>\n",
       "      <td>Nachrichten</td>\n",
       "    </tr>\n",
       "    <tr>\n",
       "      <th>4550</th>\n",
       "      <td>5820</td>\n",
       "      <td>Homo-Ehe in Frankreich In Frankreich können sc...</td>\n",
       "      <td>Nachrichten</td>\n",
       "    </tr>\n",
       "    <tr>\n",
       "      <th>4551</th>\n",
       "      <td>5821</td>\n",
       "      <td>Nord-Korea testet Atom-Bombe  Nord-Korea hat e...</td>\n",
       "      <td>Nachrichten</td>\n",
       "    </tr>\n",
       "    <tr>\n",
       "      <th>4552</th>\n",
       "      <td>5822</td>\n",
       "      <td>Obama hält wichtige Rede Der Präsident der USA...</td>\n",
       "      <td>Nachrichten</td>\n",
       "    </tr>\n",
       "    <tr>\n",
       "      <th>4553</th>\n",
       "      <td>5823</td>\n",
       "      <td>Bildungs-Ministerin tritt zurück Die Ministeri...</td>\n",
       "      <td>Nachrichten</td>\n",
       "    </tr>\n",
       "  </tbody>\n",
       "</table>\n",
       "<p>4554 rows × 3 columns</p>\n",
       "</div>"
      ],
      "text/plain": [
       "      Unnamed: 0                                               text  \\\n",
       "0              0  Fernseh-Preise  Die Grimme-Preise sind die wic...   \n",
       "1              1  Film-Festival in Berlin Jedes Jahr gibt es in ...   \n",
       "2              2  Preise für Schulen 7 Schulen in Deutschland ha...   \n",
       "3              3  Party in Liverpool In der Stadt Liverpool in d...   \n",
       "4              4  Deutschland gibt Kunst zurück Das afrikanische...   \n",
       "...          ...                                                ...   \n",
       "4549        5819  Neue Bildungs-Ministerin Johanna Wanka ist neu...   \n",
       "4550        5820  Homo-Ehe in Frankreich In Frankreich können sc...   \n",
       "4551        5821  Nord-Korea testet Atom-Bombe  Nord-Korea hat e...   \n",
       "4552        5822  Obama hält wichtige Rede Der Präsident der USA...   \n",
       "4553        5823  Bildungs-Ministerin tritt zurück Die Ministeri...   \n",
       "\n",
       "            label  \n",
       "0          Kultur  \n",
       "1          Kultur  \n",
       "2          Kultur  \n",
       "3          Kultur  \n",
       "4          Kultur  \n",
       "...           ...  \n",
       "4549  Nachrichten  \n",
       "4550  Nachrichten  \n",
       "4551  Nachrichten  \n",
       "4552  Nachrichten  \n",
       "4553  Nachrichten  \n",
       "\n",
       "[4554 rows x 3 columns]"
      ]
     },
     "metadata": {},
     "output_type": "display_data"
    }
   ],
   "source": [
    "df_simple = pd.read_csv(\"clean_leichte_sprache.csv\")\n",
    "display(df_simple)"
   ]
  },
  {
   "cell_type": "code",
   "execution_count": 3,
   "id": "668db912",
   "metadata": {},
   "outputs": [],
   "source": [
    "df_poli = pd.read_csv(\"clean_politik_normal.csv\")\n",
    "df_cult = pd.read_csv(\"clean_kultur_normal.csv\")\n",
    "df_sport = pd.read_csv(\"clean_sport_normal.csv\")\n",
    "# read our dataframes from the cleaned csvs from the other notebook"
   ]
  },
  {
   "cell_type": "code",
   "execution_count": 4,
   "id": "009867fc",
   "metadata": {},
   "outputs": [],
   "source": [
    "# to extract a list of words from each dataframe we use a method that also removes some\n",
    "# basic punctuation.\n",
    "def extract_input_words(df) :\n",
    "    input_words = []\n",
    "    for text in df[\"text\"] : # take each text from our df\n",
    "        for word in text.lower().split(\" \") :  # convert all to lower key, and split at spaces\n",
    "            if word[-1:] in [\",\", \".\", \"?\", \"!\"] :\n",
    "                input_words.append(word[:-1]) #remove most common punctuation\n",
    "            else:\n",
    "                input_words.append(word)\n",
    "            \n",
    "    return input_words # return a list of all words"
   ]
  },
  {
   "cell_type": "markdown",
   "id": "23978146",
   "metadata": {},
   "source": [
    "Now that we have our dataframes read and our method set up, we can start extracting the word lists, and counting frequencies."
   ]
  },
  {
   "cell_type": "code",
   "execution_count": 5,
   "id": "a7381c46",
   "metadata": {},
   "outputs": [],
   "source": [
    "input_words_simple = extract_input_words(df_simple)\n",
    "frequency_simple = Counter(input_words_simple)\n",
    "# frequency_simple is a dict, with the words as the keys and their occurrence as their value\n",
    "\n",
    "values_simple = list(frequency_simple.values())\n",
    "unique_words_simple = len(list(frequency_simple.keys()))\n",
    "total_words_simple = len(input_words_simple)\n",
    "\n",
    "array_simple = np.array(values_simple)\n",
    "\n",
    "sorted_array_simple = np.sort(array_simple)[::-1] #this reverses the order, since we want the highest occurrence at the start"
   ]
  },
  {
   "cell_type": "code",
   "execution_count": 6,
   "id": "a5616e36",
   "metadata": {},
   "outputs": [],
   "source": [
    "input_words_poli = extract_input_words(df_poli)\n",
    "input_words_cult = extract_input_words(df_cult)\n",
    "input_words_sport = extract_input_words(df_sport)\n",
    "\n",
    "input_words_normal = input_words_poli + input_words_cult + input_words_sport\n",
    "# we want to combine all categories, as thats what the simple language df contained\n",
    "# also this has the added benefit that we now have roughly equal amounts of words in both lists.\n",
    "\n",
    "frequency_normal = Counter(input_words_normal) # counts the frequency of each word\n",
    "\n",
    "values_normal = list(frequency_normal.values())\n",
    "unique_words_normal = len(list(frequency_normal.keys()))\n",
    "total_words_normal = len(input_words_normal)\n",
    "\n",
    "array = np.array(values_normal)\n",
    "\n",
    "sorted_array_normal = np.sort(array)[::-1] #this reverses the order"
   ]
  },
  {
   "cell_type": "code",
   "execution_count": 9,
   "id": "825043b8",
   "metadata": {},
   "outputs": [
    {
     "name": "stdout",
     "output_type": "stream",
     "text": [
      "Simple language:\n",
      "719337 total words 37717 unique words\n",
      "highest occurrence: 27475 occurrence of the word at position 5000: 9\n",
      "Normal language:\n",
      "669325 total words 79309 unique words\n",
      "highest occurrence: 23195 occurrence of the word at position 5000: 12\n"
     ]
    }
   ],
   "source": [
    "print(\"Simple language:\")\n",
    "print(total_words_simple, \"total words\", unique_words_simple, \"unique words\")\n",
    "print(\"highest occurrence:\", sorted_array_simple[0], \"occurrence of the word at position 5000:\", sorted_array_simple[4999])\n",
    "\n",
    "print(\"Normal language:\")\n",
    "print(total_words_normal, \"total words\", unique_words_normal, \"unique words\")\n",
    "print(\"highest occurrence:\", sorted_array_normal[0], \"occurrence of the word at position 5000:\", sorted_array_normal[4999])\n"
   ]
  },
  {
   "cell_type": "markdown",
   "id": "c84b64df",
   "metadata": {},
   "source": [
    "Now we have all the data we need. We have the total number of words in both our sets, along with the number of unique words in each set, and the occurrence of each word.\n",
    "In our plot, we will only include the first 5000 words, as to not crowd the plot with too many low frequency words.\n",
    "We chose 5000 as the cutoff, as in both cases we're not yet at the single occurence words, but definitely low enough\n",
    "where the shape of the curve will be evident."
   ]
  },
  {
   "cell_type": "markdown",
   "id": "dba2d0b2",
   "metadata": {},
   "source": [
    "## Plots\n",
    "We want to plot a rank frequency curve of our data. Alongside with this, we will plot the difference\n",
    "between the two curves separately, for the area we're interested in.\n",
    "\n",
    "We will plot the rank frequency curve on a log scale, as zipfs law tells us, that the\n",
    "distribution will be a logarithmic one."
   ]
  },
  {
   "cell_type": "code",
   "execution_count": 35,
   "id": "79c05330",
   "metadata": {},
   "outputs": [
    {
     "data": {
      "image/png": "[encoded data removed]",
      "text/plain": [
       "<Figure size 432x288 with 1 Axes>"
      ]
     },
     "metadata": {
      "needs_background": "light"
     },
     "output_type": "display_data"
    }
   ],
   "source": [
    "#Standard rank frequency curve\n",
    "\n",
    "y_axis_simple = sorted_array_simple[:4999]\n",
    "plt.plot(y_axis_simple, color= \"blue\", label=\"simple\") # simple language plotted in blue\n",
    "plt.yscale(\"log\")\n",
    "plt.xscale(\"log\")\n",
    "\n",
    "y_axis_normal = sorted_array_normal[:4999]\n",
    "plt.plot(y_axis_normal, color=\"red\", label=\"normal\") # normal language in red\n",
    "plt.yscale(\"log\")\n",
    "plt.xscale(\"log\")\n",
    "\n",
    "plt.margins(x=0)\n",
    "plt.xlabel(\"Rank\")\n",
    "plt.ylabel(\"Occurrence\")\n",
    "\n",
    "plt.savefig(\"rank_frequency_plot.png\", bbox_inches=\"tight\")\n",
    "plt.show()"
   ]
  },
  {
   "cell_type": "code",
   "execution_count": 29,
   "id": "f861d9ab",
   "metadata": {},
   "outputs": [],
   "source": [
    "# We want to look at the difference between the two lines in the previous plot.\n",
    "# Since for the later ranks the difference will be fairly stable we will only look at the first 500 words\n",
    "\n",
    "diff = sorted_array_simple[:499] - sorted_array_normal[:499]"
   ]
  },
  {
   "cell_type": "code",
   "execution_count": 36,
   "id": "80dfa14a",
   "metadata": {},
   "outputs": [
    {
     "data": {
      "image/png": "[encoded data removed]",
      "text/plain": [
       "<Figure size 432x288 with 1 Axes>"
      ]
     },
     "metadata": {
      "needs_background": "light"
     },
     "output_type": "display_data"
    }
   ],
   "source": [
    "plt.plot(diff)\n",
    "\n",
    "plt.axhline(y=0, color=\"black\", linewidth=\"1\") # to see the x axis in the plot\n",
    "plt.margins(x=0)\n",
    "plt.xlabel(\"Rank\")\n",
    "plt.ylabel(\"Occ in simple - occ in normal\")\n",
    "\n",
    "plt.savefig(\"difference_plot.png\", bbox_inches=\"tight\")\n",
    "plt.show()"
   ]
  },
  {
   "cell_type": "code",
   "execution_count": 24,
   "id": "8e138ba0",
   "metadata": {},
   "outputs": [
    {
     "data": {
      "image/png": "[encoded data removed]",
      "text/plain": [
       "<Figure size 432x288 with 1 Axes>"
      ]
     },
     "metadata": {
      "needs_background": "light"
     },
     "output_type": "display_data"
    }
   ],
   "source": [
    "# For our final plot we are looking at the actual frequency of the words, in relation\n",
    "# to the entire set.\n",
    "\n",
    "y_rel_simple = sorted_array_simple[:4999] / total_words_simple\n",
    "y_rel_normal = sorted_array_normal[:4999] / total_words_normal\n",
    "\n",
    "\n",
    "plt.plot(y_rel_simple)\n",
    "plt.plot(y_rel_normal, color=\"red\")\n",
    "plt.yscale(\"log\")\n",
    "plt.xscale(\"log\")"
   ]
  },
  {
   "cell_type": "code",
   "execution_count": null,
   "id": "0836ecd6",
   "metadata": {},
   "outputs": [],
   "source": []
  }
 ],
 "metadata": {
  "kernelspec": {
   "display_name": "Python 3",
   "language": "python",
   "name": "python3"
  },
  "language_info": {
   "codemirror_mode": {
    "name": "ipython",
    "version": 3
   },
   "file_extension": ".py",
   "mimetype": "text/x-python",
   "name": "python",
   "nbconvert_exporter": "python",
   "pygments_lexer": "ipython3",
   "version": "3.8.8"
  }
 },
 "nbformat": 4,
 "nbformat_minor": 5
}
